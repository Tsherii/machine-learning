{
 "cells": [
  {
   "cell_type": "markdown",
   "id": "db2018a9",
   "metadata": {},
   "source": [
    "# Machine Learning | Laboratory Exercise 1\n",
    "\n",
    "**Name:** `[ Tilan, Sherri Nicole S. ]`\n",
    "\n",
    "**Course Code:** IT325\n",
    "\n",
    "**Date:** `[ 04-24-2025 ]`\n",
    "\n",
    "**Python Review (<a href=\"https://github.com/JhunBrian/ICT-111/blob/main/gdsc/Pandas.ipynb\">`pandas`</a> x <a href=\"https://github.com/JhunBrian/ICT-111/blob/main/gdsc/Numpy.ipynb\">`numpy`</a>)**\n",
    "\n",
    "The objective of this exercise is to reinforce your foundational knowledge of Python and reestablish your skills about the libraries that are essential for data-driven tasks, including `numpy`, `pandas`, and `matplotlib`. Through this exercise, we will revisit fundamental Python concepts and engage in hands-on experience with data preprocessing techniques, which are crucial for data mining."
   ]
  },
  {
   "cell_type": "markdown",
   "id": "debf8c0b",
   "metadata": {},
   "source": [
    "## `Import Libraries`\n",
    "\n",
    "- pandas\n",
    "- numpy\n",
    "- seaborn\n",
    "- pyplot"
   ]
  },
  {
   "cell_type": "code",
   "execution_count": 77,
   "id": "acb1d4a6",
   "metadata": {},
   "outputs": [],
   "source": [
    "# code here\n",
    "import pandas as pd\n",
    "import numpy as np\n",
    "import seaborn as sns\n",
    "import matplotlib.pyplot as plt"
   ]
  },
  {
   "cell_type": "markdown",
   "id": "c784d4ee",
   "metadata": {},
   "source": [
    "## `Load Titanic Dataset`\n",
    "\n",
    "*Use the link to access the dataset.*\n",
    "- https://raw.githubusercontent.com/datasciencedojo/datasets/master/titanic.csv\n",
    "\n",
    "<table>\n",
    "    <tr>\n",
    "        <th>Variable</th>\n",
    "        <th>Description</th>\n",
    "        <th>Key</th>\n",
    "    </tr>\n",
    "    <tr>\n",
    "        <td>PassengerId</td>\n",
    "        <td>Passenger ID</td>\n",
    "        <td></td>\n",
    "    </tr>\n",
    "    <tr>\n",
    "        <td>Survived</td>\n",
    "        <td>Survived the Titanic or not</td>\n",
    "        <td>0=No, 1=Yes</td>\n",
    "    </tr>\n",
    "    <tr>\n",
    "        <td>Pclass</td>\n",
    "        <td>Ticket class</td>\n",
    "        <td>1=1st, 2=2nd, 3=3rd</td>\n",
    "    </tr>\n",
    "    <tr>\n",
    "        <td>Name</td>\n",
    "        <td>Passenger's name</td>\n",
    "        <td></td>\n",
    "    </tr>\n",
    "    <tr>\n",
    "        <td>Sex</td>\n",
    "        <td>Passenger's sex</td>\n",
    "        <td></td>\n",
    "    </tr>\n",
    "    <tr>\n",
    "        <td>Age</td>\n",
    "        <td>Passenger's age</td>\n",
    "        <td></td>\n",
    "    </tr>\n",
    "    <tr>\n",
    "        <td>SibSp</td>\n",
    "        <td>Numbers of siblings or spouses aboard</td>\n",
    "        <td></td>\n",
    "    </tr>\n",
    "    <tr>\n",
    "        <td>ParCh</td>\n",
    "        <td>Numbers of parents or children aboard</td>\n",
    "        <td></td>\n",
    "    </tr>\n",
    "    <tr>\n",
    "        <td>Ticket</td>\n",
    "        <td>Ticket number</td>\n",
    "        <td></td>\n",
    "    </tr>\n",
    "    <tr>\n",
    "        <td>Fare</td>\n",
    "        <td>Passenger fare</td>\n",
    "        <td></td>\n",
    "    </tr>\n",
    "    <tr>\n",
    "        <td>Cabin</td>\n",
    "        <td>Cabin number</td>\n",
    "        <td></td>\n",
    "    </tr>\n",
    "    <tr>\n",
    "        <td>Embraked</td>\n",
    "        <td>Town of embarkation</td>\n",
    "        <td>C=Cherbourg, Q=Queenstown, S=Southampton</td>\n",
    "    </tr>\n",
    "</table>"
   ]
  },
  {
   "cell_type": "code",
   "execution_count": 78,
   "id": "f3507aca",
   "metadata": {},
   "outputs": [
    {
     "data": {
      "text/html": [
       "<div>\n",
       "<style scoped>\n",
       "    .dataframe tbody tr th:only-of-type {\n",
       "        vertical-align: middle;\n",
       "    }\n",
       "\n",
       "    .dataframe tbody tr th {\n",
       "        vertical-align: top;\n",
       "    }\n",
       "\n",
       "    .dataframe thead th {\n",
       "        text-align: right;\n",
       "    }\n",
       "</style>\n",
       "<table border=\"1\" class=\"dataframe\">\n",
       "  <thead>\n",
       "    <tr style=\"text-align: right;\">\n",
       "      <th></th>\n",
       "      <th>PassengerId</th>\n",
       "      <th>Survived</th>\n",
       "      <th>Pclass</th>\n",
       "      <th>Name</th>\n",
       "      <th>Sex</th>\n",
       "      <th>Age</th>\n",
       "      <th>SibSp</th>\n",
       "      <th>Parch</th>\n",
       "      <th>Ticket</th>\n",
       "      <th>Fare</th>\n",
       "      <th>Cabin</th>\n",
       "      <th>Embarked</th>\n",
       "    </tr>\n",
       "  </thead>\n",
       "  <tbody>\n",
       "    <tr>\n",
       "      <th>0</th>\n",
       "      <td>1</td>\n",
       "      <td>0</td>\n",
       "      <td>3</td>\n",
       "      <td>Braund, Mr. Owen Harris</td>\n",
       "      <td>male</td>\n",
       "      <td>22.0</td>\n",
       "      <td>1</td>\n",
       "      <td>0</td>\n",
       "      <td>A/5 21171</td>\n",
       "      <td>7.2500</td>\n",
       "      <td>NaN</td>\n",
       "      <td>S</td>\n",
       "    </tr>\n",
       "    <tr>\n",
       "      <th>1</th>\n",
       "      <td>2</td>\n",
       "      <td>1</td>\n",
       "      <td>1</td>\n",
       "      <td>Cumings, Mrs. John Bradley (Florence Briggs Th...</td>\n",
       "      <td>female</td>\n",
       "      <td>38.0</td>\n",
       "      <td>1</td>\n",
       "      <td>0</td>\n",
       "      <td>PC 17599</td>\n",
       "      <td>71.2833</td>\n",
       "      <td>C85</td>\n",
       "      <td>C</td>\n",
       "    </tr>\n",
       "    <tr>\n",
       "      <th>2</th>\n",
       "      <td>3</td>\n",
       "      <td>1</td>\n",
       "      <td>3</td>\n",
       "      <td>Heikkinen, Miss. Laina</td>\n",
       "      <td>female</td>\n",
       "      <td>26.0</td>\n",
       "      <td>0</td>\n",
       "      <td>0</td>\n",
       "      <td>STON/O2. 3101282</td>\n",
       "      <td>7.9250</td>\n",
       "      <td>NaN</td>\n",
       "      <td>S</td>\n",
       "    </tr>\n",
       "    <tr>\n",
       "      <th>3</th>\n",
       "      <td>4</td>\n",
       "      <td>1</td>\n",
       "      <td>1</td>\n",
       "      <td>Futrelle, Mrs. Jacques Heath (Lily May Peel)</td>\n",
       "      <td>female</td>\n",
       "      <td>35.0</td>\n",
       "      <td>1</td>\n",
       "      <td>0</td>\n",
       "      <td>113803</td>\n",
       "      <td>53.1000</td>\n",
       "      <td>C123</td>\n",
       "      <td>S</td>\n",
       "    </tr>\n",
       "    <tr>\n",
       "      <th>4</th>\n",
       "      <td>5</td>\n",
       "      <td>0</td>\n",
       "      <td>3</td>\n",
       "      <td>Allen, Mr. William Henry</td>\n",
       "      <td>male</td>\n",
       "      <td>35.0</td>\n",
       "      <td>0</td>\n",
       "      <td>0</td>\n",
       "      <td>373450</td>\n",
       "      <td>8.0500</td>\n",
       "      <td>NaN</td>\n",
       "      <td>S</td>\n",
       "    </tr>\n",
       "  </tbody>\n",
       "</table>\n",
       "</div>"
      ],
      "text/plain": [
       "   PassengerId  Survived  Pclass  \\\n",
       "0            1         0       3   \n",
       "1            2         1       1   \n",
       "2            3         1       3   \n",
       "3            4         1       1   \n",
       "4            5         0       3   \n",
       "\n",
       "                                                Name     Sex   Age  SibSp  \\\n",
       "0                            Braund, Mr. Owen Harris    male  22.0      1   \n",
       "1  Cumings, Mrs. John Bradley (Florence Briggs Th...  female  38.0      1   \n",
       "2                             Heikkinen, Miss. Laina  female  26.0      0   \n",
       "3       Futrelle, Mrs. Jacques Heath (Lily May Peel)  female  35.0      1   \n",
       "4                           Allen, Mr. William Henry    male  35.0      0   \n",
       "\n",
       "   Parch            Ticket     Fare Cabin Embarked  \n",
       "0      0         A/5 21171   7.2500   NaN        S  \n",
       "1      0          PC 17599  71.2833   C85        C  \n",
       "2      0  STON/O2. 3101282   7.9250   NaN        S  \n",
       "3      0            113803  53.1000  C123        S  \n",
       "4      0            373450   8.0500   NaN        S  "
      ]
     },
     "execution_count": 78,
     "metadata": {},
     "output_type": "execute_result"
    }
   ],
   "source": [
    "# code here\n",
    "df = pd.read_csv(\"https://raw.githubusercontent.com/datasciencedojo/datasets/master/titanic.csv\")\n",
    "df.head()"
   ]
  },
  {
   "cell_type": "markdown",
   "id": "4b9d9ce0",
   "metadata": {},
   "source": [
    "## `Descriptive Statistics`\n",
    "\n",
    "Descriptive statistics include those that summarize the central tendency, dispersion and shape of a dataset's distribution, excluding `NaN` values."
   ]
  },
  {
   "cell_type": "code",
   "execution_count": 79,
   "id": "d8bffa8f",
   "metadata": {},
   "outputs": [
    {
     "data": {
      "text/html": [
       "<div>\n",
       "<style scoped>\n",
       "    .dataframe tbody tr th:only-of-type {\n",
       "        vertical-align: middle;\n",
       "    }\n",
       "\n",
       "    .dataframe tbody tr th {\n",
       "        vertical-align: top;\n",
       "    }\n",
       "\n",
       "    .dataframe thead th {\n",
       "        text-align: right;\n",
       "    }\n",
       "</style>\n",
       "<table border=\"1\" class=\"dataframe\">\n",
       "  <thead>\n",
       "    <tr style=\"text-align: right;\">\n",
       "      <th></th>\n",
       "      <th>PassengerId</th>\n",
       "      <th>Survived</th>\n",
       "      <th>Pclass</th>\n",
       "      <th>Age</th>\n",
       "      <th>SibSp</th>\n",
       "      <th>Parch</th>\n",
       "      <th>Fare</th>\n",
       "    </tr>\n",
       "  </thead>\n",
       "  <tbody>\n",
       "    <tr>\n",
       "      <th>count</th>\n",
       "      <td>891.000000</td>\n",
       "      <td>891.000000</td>\n",
       "      <td>891.000000</td>\n",
       "      <td>714.000000</td>\n",
       "      <td>891.000000</td>\n",
       "      <td>891.000000</td>\n",
       "      <td>891.000000</td>\n",
       "    </tr>\n",
       "    <tr>\n",
       "      <th>mean</th>\n",
       "      <td>446.000000</td>\n",
       "      <td>0.383838</td>\n",
       "      <td>2.308642</td>\n",
       "      <td>29.699118</td>\n",
       "      <td>0.523008</td>\n",
       "      <td>0.381594</td>\n",
       "      <td>32.204208</td>\n",
       "    </tr>\n",
       "    <tr>\n",
       "      <th>std</th>\n",
       "      <td>257.353842</td>\n",
       "      <td>0.486592</td>\n",
       "      <td>0.836071</td>\n",
       "      <td>14.526497</td>\n",
       "      <td>1.102743</td>\n",
       "      <td>0.806057</td>\n",
       "      <td>49.693429</td>\n",
       "    </tr>\n",
       "    <tr>\n",
       "      <th>min</th>\n",
       "      <td>1.000000</td>\n",
       "      <td>0.000000</td>\n",
       "      <td>1.000000</td>\n",
       "      <td>0.420000</td>\n",
       "      <td>0.000000</td>\n",
       "      <td>0.000000</td>\n",
       "      <td>0.000000</td>\n",
       "    </tr>\n",
       "    <tr>\n",
       "      <th>25%</th>\n",
       "      <td>223.500000</td>\n",
       "      <td>0.000000</td>\n",
       "      <td>2.000000</td>\n",
       "      <td>20.125000</td>\n",
       "      <td>0.000000</td>\n",
       "      <td>0.000000</td>\n",
       "      <td>7.910400</td>\n",
       "    </tr>\n",
       "    <tr>\n",
       "      <th>50%</th>\n",
       "      <td>446.000000</td>\n",
       "      <td>0.000000</td>\n",
       "      <td>3.000000</td>\n",
       "      <td>28.000000</td>\n",
       "      <td>0.000000</td>\n",
       "      <td>0.000000</td>\n",
       "      <td>14.454200</td>\n",
       "    </tr>\n",
       "    <tr>\n",
       "      <th>75%</th>\n",
       "      <td>668.500000</td>\n",
       "      <td>1.000000</td>\n",
       "      <td>3.000000</td>\n",
       "      <td>38.000000</td>\n",
       "      <td>1.000000</td>\n",
       "      <td>0.000000</td>\n",
       "      <td>31.000000</td>\n",
       "    </tr>\n",
       "    <tr>\n",
       "      <th>max</th>\n",
       "      <td>891.000000</td>\n",
       "      <td>1.000000</td>\n",
       "      <td>3.000000</td>\n",
       "      <td>80.000000</td>\n",
       "      <td>8.000000</td>\n",
       "      <td>6.000000</td>\n",
       "      <td>512.329200</td>\n",
       "    </tr>\n",
       "  </tbody>\n",
       "</table>\n",
       "</div>"
      ],
      "text/plain": [
       "       PassengerId    Survived      Pclass         Age       SibSp  \\\n",
       "count   891.000000  891.000000  891.000000  714.000000  891.000000   \n",
       "mean    446.000000    0.383838    2.308642   29.699118    0.523008   \n",
       "std     257.353842    0.486592    0.836071   14.526497    1.102743   \n",
       "min       1.000000    0.000000    1.000000    0.420000    0.000000   \n",
       "25%     223.500000    0.000000    2.000000   20.125000    0.000000   \n",
       "50%     446.000000    0.000000    3.000000   28.000000    0.000000   \n",
       "75%     668.500000    1.000000    3.000000   38.000000    1.000000   \n",
       "max     891.000000    1.000000    3.000000   80.000000    8.000000   \n",
       "\n",
       "            Parch        Fare  \n",
       "count  891.000000  891.000000  \n",
       "mean     0.381594   32.204208  \n",
       "std      0.806057   49.693429  \n",
       "min      0.000000    0.000000  \n",
       "25%      0.000000    7.910400  \n",
       "50%      0.000000   14.454200  \n",
       "75%      0.000000   31.000000  \n",
       "max      6.000000  512.329200  "
      ]
     },
     "execution_count": 79,
     "metadata": {},
     "output_type": "execute_result"
    }
   ],
   "source": [
    "# code here\n",
    "df.describe()"
   ]
  },
  {
   "cell_type": "code",
   "execution_count": 80,
   "id": "dfd979bf",
   "metadata": {},
   "outputs": [],
   "source": [
    "# utility function to plot a histogram from a pd.Series() object.\n",
    "\n",
    "def make_hist(series, bins=20):\n",
    "    plt.hist(series, bins=bins, ec='blue')\n",
    "    plt.title(f\"{series.name.capitalize()} Distribution\")\n",
    "    plt.xlabel(series.name.capitalize())\n",
    "    plt.show()"
   ]
  },
  {
   "cell_type": "markdown",
   "id": "9a8f9c77",
   "metadata": {},
   "source": [
    "### `Visualize the Age Distribution`\n",
    "*Display correct title and axis labels.*"
   ]
  },
  {
   "cell_type": "code",
   "execution_count": 81,
   "id": "186352df",
   "metadata": {},
   "outputs": [
    {
     "data": {
      "image/png": "[encoded data removed]",
      "text/plain": [
       "<Figure size 640x480 with 1 Axes>"
      ]
     },
     "metadata": {},
     "output_type": "display_data"
    }
   ],
   "source": [
    "# code here\n",
    "make_hist(df['Age'])"
   ]
  },
  {
   "cell_type": "markdown",
   "id": "9b894aa2",
   "metadata": {},
   "source": [
    "### `Iteratively Display the Histogram for Each Numerical Column`"
   ]
  },
  {
   "cell_type": "code",
   "execution_count": 82,
   "id": "14f60272",
   "metadata": {},
   "outputs": [
    {
     "data": {
      "image/png": "[encoded data removed]",
      "text/plain": [
       "<Figure size 640x480 with 1 Axes>"
      ]
     },
     "metadata": {},
     "output_type": "display_data"
    },
    {
     "data": {
      "image/png": "[encoded data removed]",
      "text/plain": [
       "<Figure size 640x480 with 1 Axes>"
      ]
     },
     "metadata": {},
     "output_type": "display_data"
    },
    {
     "data": {
      "image/png": "[encoded data removed]",
      "text/plain": [
       "<Figure size 640x480 with 1 Axes>"
      ]
     },
     "metadata": {},
     "output_type": "display_data"
    },
    {
     "data": {
      "image/png": "[encoded data removed]",
      "text/plain": [
       "<Figure size 640x480 with 1 Axes>"
      ]
     },
     "metadata": {},
     "output_type": "display_data"
    },
    {
     "data": {
      "image/png": "[encoded data removed]",
      "text/plain": [
       "<Figure size 640x480 with 1 Axes>"
      ]
     },
     "metadata": {},
     "output_type": "display_data"
    },
    {
     "data": {
      "image/png": "[encoded data removed]",
      "text/plain": [
       "<Figure size 640x480 with 1 Axes>"
      ]
     },
     "metadata": {},
     "output_type": "display_data"
    },
    {
     "data": {
      "image/png": "[encoded data removed]",
      "text/plain": [
       "<Figure size 640x480 with 1 Axes>"
      ]
     },
     "metadata": {},
     "output_type": "display_data"
    }
   ],
   "source": [
    "# code here\n",
    "for i in df.columns[df.dtypes != 'object']:\n",
    "    make_hist(df[i])"
   ]
  },
  {
   "cell_type": "markdown",
   "id": "b8df1f72",
   "metadata": {},
   "source": [
    "## The Data Mining Process\n",
    "<br></br>\n",
    "<br></br>\n",
    "<center><img src=\"lab1_figs/dm_process.png\" width=\"700\"></center>"
   ]
  },
  {
   "cell_type": "markdown",
   "id": "10ecf36b",
   "metadata": {},
   "source": [
    "## `Perform Data Cleaning`\n",
    "Data cleaning involves a number of techniques including filling in the missing values manually, combined computer and human inspection, etc."
   ]
  },
  {
   "cell_type": "markdown",
   "id": "141246de",
   "metadata": {},
   "source": [
    "### `Display the Number of Missing Values for each Column`"
   ]
  },
  {
   "cell_type": "code",
   "execution_count": 83,
   "id": "e7ab7606",
   "metadata": {},
   "outputs": [
    {
     "data": {
      "text/plain": [
       "PassengerId      0\n",
       "Survived         0\n",
       "Pclass           0\n",
       "Name             0\n",
       "Sex              0\n",
       "Age            177\n",
       "SibSp            0\n",
       "Parch            0\n",
       "Ticket           0\n",
       "Fare             0\n",
       "Cabin          687\n",
       "Embarked         2\n",
       "dtype: int64"
      ]
     },
     "execution_count": 83,
     "metadata": {},
     "output_type": "execute_result"
    }
   ],
   "source": [
    "# code here\n",
    "df.isna().sum()"
   ]
  },
  {
   "cell_type": "markdown",
   "id": "2a3cdf3c",
   "metadata": {},
   "source": [
    "<div class=\"alert alert-block alert-info\"><b>Note: </b> There are two types of treating missing values in a dataset: <br>\n",
    "1. Imputation - Filling missing values with a value e.g. mean, median, mode, zero or by using other techniques e.g. SMOTE or other ML algorithms.<br>\n",
    "2. Dropping - Removing the rows with at least one missing data.</div>\n",
    "\n",
    "**Sample Data:** \n",
    "<table>\n",
    "  <tr>\n",
    "    <th>X</th>\n",
    "    <th>Y</th>\n",
    "  </tr>\n",
    "  <tr>\n",
    "    <td>14</td>\n",
    "    <td>27</td>\n",
    "  </tr>\n",
    "  <tr>\n",
    "    <td>13</td>\n",
    "    <td>29</td>\n",
    "  </tr>\n",
    "  <tr>\n",
    "    <td>23</td>\n",
    "    <td>49</td>\n",
    "  </tr>\n",
    "  <tr>\n",
    "    <td>19</td>\n",
    "    <td>37</td>\n",
    "  </tr>\n",
    "  <tr>\n",
    "    <td>21</td>\n",
    "    <td>31</td>\n",
    "  </tr>\n",
    "  <tr>\n",
    "    <td>25</td>\n",
    "    <td>40</td>\n",
    "  </tr>\n",
    "  <tr>\n",
    "    <td>18</td>\n",
    "    <td>35</td>\n",
    "  </tr>\n",
    "  <tr>\n",
    "    <td>22</td>\n",
    "    <td>NaN</td>\n",
    "  </tr>\n",
    "  <tr>\n",
    "    <td>18</td>\n",
    "    <td>NaN</td>\n",
    "  </tr>\n",
    "  <tr>\n",
    "    <td>28</td>\n",
    "    <td>NaN</td>\n",
    "  </tr>\n",
    "  <tr>\n",
    "    <td>25</td>\n",
    "    <td>NaN</td>\n",
    "  </tr>\n",
    "  <tr>\n",
    "    <td>17</td>\n",
    "    <td>NaN</td>\n",
    "  </tr>\n",
    "</table>\n"
   ]
  },
  {
   "cell_type": "markdown",
   "id": "e2233818",
   "metadata": {},
   "source": [
    "### `Make a DataFrame out of the Sample Data`\n",
    "\n",
    "*Name it `sample_df1`* \\\n",
    "*Copy the `sample_df1` to a new variable called `sample_df2`*"
   ]
  },
  {
   "cell_type": "code",
   "execution_count": 84,
   "id": "04cce584",
   "metadata": {},
   "outputs": [
    {
     "data": {
      "text/html": [
       "<div>\n",
       "<style scoped>\n",
       "    .dataframe tbody tr th:only-of-type {\n",
       "        vertical-align: middle;\n",
       "    }\n",
       "\n",
       "    .dataframe tbody tr th {\n",
       "        vertical-align: top;\n",
       "    }\n",
       "\n",
       "    .dataframe thead th {\n",
       "        text-align: right;\n",
       "    }\n",
       "</style>\n",
       "<table border=\"1\" class=\"dataframe\">\n",
       "  <thead>\n",
       "    <tr style=\"text-align: right;\">\n",
       "      <th></th>\n",
       "      <th>X</th>\n",
       "      <th>Y</th>\n",
       "    </tr>\n",
       "  </thead>\n",
       "  <tbody>\n",
       "    <tr>\n",
       "      <th>0</th>\n",
       "      <td>14</td>\n",
       "      <td>27.0</td>\n",
       "    </tr>\n",
       "    <tr>\n",
       "      <th>1</th>\n",
       "      <td>13</td>\n",
       "      <td>29.0</td>\n",
       "    </tr>\n",
       "    <tr>\n",
       "      <th>2</th>\n",
       "      <td>23</td>\n",
       "      <td>49.0</td>\n",
       "    </tr>\n",
       "    <tr>\n",
       "      <th>3</th>\n",
       "      <td>19</td>\n",
       "      <td>37.0</td>\n",
       "    </tr>\n",
       "    <tr>\n",
       "      <th>4</th>\n",
       "      <td>21</td>\n",
       "      <td>31.0</td>\n",
       "    </tr>\n",
       "    <tr>\n",
       "      <th>5</th>\n",
       "      <td>25</td>\n",
       "      <td>40.0</td>\n",
       "    </tr>\n",
       "    <tr>\n",
       "      <th>6</th>\n",
       "      <td>18</td>\n",
       "      <td>35.0</td>\n",
       "    </tr>\n",
       "    <tr>\n",
       "      <th>7</th>\n",
       "      <td>22</td>\n",
       "      <td>NaN</td>\n",
       "    </tr>\n",
       "    <tr>\n",
       "      <th>8</th>\n",
       "      <td>18</td>\n",
       "      <td>NaN</td>\n",
       "    </tr>\n",
       "    <tr>\n",
       "      <th>9</th>\n",
       "      <td>28</td>\n",
       "      <td>NaN</td>\n",
       "    </tr>\n",
       "    <tr>\n",
       "      <th>10</th>\n",
       "      <td>25</td>\n",
       "      <td>NaN</td>\n",
       "    </tr>\n",
       "    <tr>\n",
       "      <th>11</th>\n",
       "      <td>17</td>\n",
       "      <td>NaN</td>\n",
       "    </tr>\n",
       "  </tbody>\n",
       "</table>\n",
       "</div>"
      ],
      "text/plain": [
       "     X     Y\n",
       "0   14  27.0\n",
       "1   13  29.0\n",
       "2   23  49.0\n",
       "3   19  37.0\n",
       "4   21  31.0\n",
       "5   25  40.0\n",
       "6   18  35.0\n",
       "7   22   NaN\n",
       "8   18   NaN\n",
       "9   28   NaN\n",
       "10  25   NaN\n",
       "11  17   NaN"
      ]
     },
     "execution_count": 84,
     "metadata": {},
     "output_type": "execute_result"
    }
   ],
   "source": [
    "# code here\n",
    "sample_df1 = pd.DataFrame({\n",
    "    'X':[14, 13, 23, 19, 21, 25, 18, 22, 18, 28, 25, 17],\n",
    "    'Y':[27, 29, 49, 37, 31, 40, 35, np.nan, np.nan, np.nan, np.nan, np.nan]\n",
    "})\n",
    "sample_df1"
   ]
  },
  {
   "cell_type": "markdown",
   "id": "8f67ac70",
   "metadata": {},
   "source": [
    "**1. Imputation** \\\n",
    "Replaces `NaN` (Not a Number) values with the `mean` of the non-missing values in the column (other values aside form the mean can also be used).\n",
    "\\begin{equation}\n",
    "    NaN_{i,j} = \\frac{\\sum{x_j}}{n_j}\n",
    "\\end{equation}\n",
    "\n",
    "Where:\n",
    "- $NaN_{i,j}$ is the cell with the missing value in the $i$-th row and $j$-th column.\n",
    "- $x_j$ are the cells with non-missing values in the $j$-th column.\n",
    "- $n_j$ is the number of $x_j$ instances in the $j$-th column."
   ]
  },
  {
   "cell_type": "markdown",
   "id": "1a6ae3a9",
   "metadata": {},
   "source": [
    "<div class=\"alert alert-block alert-warning\">⚠️ Make sure that you named the sample data above as <code>sample_df1</code></div>\n"
   ]
  },
  {
   "cell_type": "code",
   "execution_count": 85,
   "id": "9227298a",
   "metadata": {},
   "outputs": [
    {
     "name": "stdout",
     "output_type": "stream",
     "text": [
      "Mean: 35.42857142857143\n"
     ]
    }
   ],
   "source": [
    "# (𖦹ᯅ𖦹)\n",
    "# what happens here?\n",
    "\n",
    "sums_j = 0\n",
    "n_j = 0\n",
    "\n",
    "for idx, row in sample_df1.iterrows():\n",
    "    X = row['X']\n",
    "    Y = row['Y']\n",
    "    if np.isnan(Y) == False:\n",
    "        sums_j += Y\n",
    "        n_j += 1\n",
    "\n",
    "avg = sums_j / n_j\n",
    "print(f\"Mean: {avg}\")"
   ]
  },
  {
   "cell_type": "code",
   "execution_count": 86,
   "id": "64c2d416",
   "metadata": {},
   "outputs": [
    {
     "data": {
      "text/html": [
       "<div>\n",
       "<style scoped>\n",
       "    .dataframe tbody tr th:only-of-type {\n",
       "        vertical-align: middle;\n",
       "    }\n",
       "\n",
       "    .dataframe tbody tr th {\n",
       "        vertical-align: top;\n",
       "    }\n",
       "\n",
       "    .dataframe thead th {\n",
       "        text-align: right;\n",
       "    }\n",
       "</style>\n",
       "<table border=\"1\" class=\"dataframe\">\n",
       "  <thead>\n",
       "    <tr style=\"text-align: right;\">\n",
       "      <th></th>\n",
       "      <th>X</th>\n",
       "      <th>Y</th>\n",
       "    </tr>\n",
       "  </thead>\n",
       "  <tbody>\n",
       "    <tr>\n",
       "      <th>0</th>\n",
       "      <td>14</td>\n",
       "      <td>27.000000</td>\n",
       "    </tr>\n",
       "    <tr>\n",
       "      <th>1</th>\n",
       "      <td>13</td>\n",
       "      <td>29.000000</td>\n",
       "    </tr>\n",
       "    <tr>\n",
       "      <th>2</th>\n",
       "      <td>23</td>\n",
       "      <td>49.000000</td>\n",
       "    </tr>\n",
       "    <tr>\n",
       "      <th>3</th>\n",
       "      <td>19</td>\n",
       "      <td>37.000000</td>\n",
       "    </tr>\n",
       "    <tr>\n",
       "      <th>4</th>\n",
       "      <td>21</td>\n",
       "      <td>31.000000</td>\n",
       "    </tr>\n",
       "    <tr>\n",
       "      <th>5</th>\n",
       "      <td>25</td>\n",
       "      <td>40.000000</td>\n",
       "    </tr>\n",
       "    <tr>\n",
       "      <th>6</th>\n",
       "      <td>18</td>\n",
       "      <td>35.000000</td>\n",
       "    </tr>\n",
       "    <tr>\n",
       "      <th>7</th>\n",
       "      <td>22</td>\n",
       "      <td>35.428571</td>\n",
       "    </tr>\n",
       "    <tr>\n",
       "      <th>8</th>\n",
       "      <td>18</td>\n",
       "      <td>35.428571</td>\n",
       "    </tr>\n",
       "    <tr>\n",
       "      <th>9</th>\n",
       "      <td>28</td>\n",
       "      <td>35.428571</td>\n",
       "    </tr>\n",
       "    <tr>\n",
       "      <th>10</th>\n",
       "      <td>25</td>\n",
       "      <td>35.428571</td>\n",
       "    </tr>\n",
       "    <tr>\n",
       "      <th>11</th>\n",
       "      <td>17</td>\n",
       "      <td>35.428571</td>\n",
       "    </tr>\n",
       "  </tbody>\n",
       "</table>\n",
       "</div>"
      ],
      "text/plain": [
       "     X          Y\n",
       "0   14  27.000000\n",
       "1   13  29.000000\n",
       "2   23  49.000000\n",
       "3   19  37.000000\n",
       "4   21  31.000000\n",
       "5   25  40.000000\n",
       "6   18  35.000000\n",
       "7   22  35.428571\n",
       "8   18  35.428571\n",
       "9   28  35.428571\n",
       "10  25  35.428571\n",
       "11  17  35.428571"
      ]
     },
     "execution_count": 86,
     "metadata": {},
     "output_type": "execute_result"
    }
   ],
   "source": [
    "# ≖‿≖\n",
    "# what happens here?\n",
    "\n",
    "for idx, row in sample_df1.iterrows():\n",
    "    X = row['X']\n",
    "    Y = row['Y']\n",
    "    if np.isnan(Y) == True:\n",
    "        sample_df1.loc[idx, 'Y'] = avg\n",
    "\n",
    "sample_df1"
   ]
  },
  {
   "cell_type": "markdown",
   "id": "b87efcc0",
   "metadata": {},
   "source": [
    "<div class=\"alert alert-block alert-info\"><b>Remember:</b> You can also use other methods such as median imputation, mode imputation and other methods, but of course there needs to be a factor that one should consider upon imputation.</div> \n",
    "\n",
    "Our implementation above for imputing missing values is actually impractical and unnecessary because there are built-in attributes in the `pd.DataFrame` that can do the mean  imputation automatically. The code above is judt for you to visualize and appreiate how imputation works."
   ]
  },
  {
   "cell_type": "markdown",
   "id": "ed4f0999",
   "metadata": {},
   "source": [
    "### `Impute the sample_df1`\n",
    "\n",
    "*Use the `pd.DataFrame` built-in method called `fillna()`, and use the `avg` as the parameter.*"
   ]
  },
  {
   "cell_type": "code",
   "execution_count": 87,
   "id": "1fe8f62b",
   "metadata": {},
   "outputs": [
    {
     "data": {
      "text/plain": [
       "np.float64(35.42857142857144)"
      ]
     },
     "execution_count": 87,
     "metadata": {},
     "output_type": "execute_result"
    }
   ],
   "source": [
    "sample_df1['Y'].mean()"
   ]
  },
  {
   "cell_type": "code",
   "execution_count": 88,
   "id": "f7ace21c",
   "metadata": {},
   "outputs": [
    {
     "data": {
      "text/html": [
       "<div>\n",
       "<style scoped>\n",
       "    .dataframe tbody tr th:only-of-type {\n",
       "        vertical-align: middle;\n",
       "    }\n",
       "\n",
       "    .dataframe tbody tr th {\n",
       "        vertical-align: top;\n",
       "    }\n",
       "\n",
       "    .dataframe thead th {\n",
       "        text-align: right;\n",
       "    }\n",
       "</style>\n",
       "<table border=\"1\" class=\"dataframe\">\n",
       "  <thead>\n",
       "    <tr style=\"text-align: right;\">\n",
       "      <th></th>\n",
       "      <th>X</th>\n",
       "      <th>Y</th>\n",
       "    </tr>\n",
       "  </thead>\n",
       "  <tbody>\n",
       "    <tr>\n",
       "      <th>0</th>\n",
       "      <td>14</td>\n",
       "      <td>27.000000</td>\n",
       "    </tr>\n",
       "    <tr>\n",
       "      <th>1</th>\n",
       "      <td>13</td>\n",
       "      <td>29.000000</td>\n",
       "    </tr>\n",
       "    <tr>\n",
       "      <th>2</th>\n",
       "      <td>23</td>\n",
       "      <td>49.000000</td>\n",
       "    </tr>\n",
       "    <tr>\n",
       "      <th>3</th>\n",
       "      <td>19</td>\n",
       "      <td>37.000000</td>\n",
       "    </tr>\n",
       "    <tr>\n",
       "      <th>4</th>\n",
       "      <td>21</td>\n",
       "      <td>31.000000</td>\n",
       "    </tr>\n",
       "    <tr>\n",
       "      <th>5</th>\n",
       "      <td>25</td>\n",
       "      <td>40.000000</td>\n",
       "    </tr>\n",
       "    <tr>\n",
       "      <th>6</th>\n",
       "      <td>18</td>\n",
       "      <td>35.000000</td>\n",
       "    </tr>\n",
       "    <tr>\n",
       "      <th>7</th>\n",
       "      <td>22</td>\n",
       "      <td>35.428571</td>\n",
       "    </tr>\n",
       "    <tr>\n",
       "      <th>8</th>\n",
       "      <td>18</td>\n",
       "      <td>35.428571</td>\n",
       "    </tr>\n",
       "    <tr>\n",
       "      <th>9</th>\n",
       "      <td>28</td>\n",
       "      <td>35.428571</td>\n",
       "    </tr>\n",
       "    <tr>\n",
       "      <th>10</th>\n",
       "      <td>25</td>\n",
       "      <td>35.428571</td>\n",
       "    </tr>\n",
       "    <tr>\n",
       "      <th>11</th>\n",
       "      <td>17</td>\n",
       "      <td>35.428571</td>\n",
       "    </tr>\n",
       "  </tbody>\n",
       "</table>\n",
       "</div>"
      ],
      "text/plain": [
       "     X          Y\n",
       "0   14  27.000000\n",
       "1   13  29.000000\n",
       "2   23  49.000000\n",
       "3   19  37.000000\n",
       "4   21  31.000000\n",
       "5   25  40.000000\n",
       "6   18  35.000000\n",
       "7   22  35.428571\n",
       "8   18  35.428571\n",
       "9   28  35.428571\n",
       "10  25  35.428571\n",
       "11  17  35.428571"
      ]
     },
     "execution_count": 88,
     "metadata": {},
     "output_type": "execute_result"
    }
   ],
   "source": [
    "# code here\n",
    "\n",
    "sample_df1 = pd.DataFrame({\n",
    "    'X':[14, 13, 23, 19, 21, 25, 18, 22, 18, 28, 25, 17],\n",
    "    'Y':[27, 29, 49, 37, 31, 40, 35, np.nan, np.nan, np.nan, np.nan, np.nan]\n",
    "})\n",
    "sample_df1.fillna(value=sample_df1['Y'].mean())"
   ]
  },
  {
   "cell_type": "markdown",
   "id": "31cde9c0",
   "metadata": {},
   "source": [
    "### `Dropping rows with null values`\n",
    "*Use the `sample_df2` for this item, use the `pd.DataFrame` built-in method called `dropna()`*\n",
    "\n",
    "**2. Dropping** \\\n",
    "Removing the entire row of instance with at least one missing value."
   ]
  },
  {
   "cell_type": "code",
   "execution_count": 89,
   "id": "82dfcb6b",
   "metadata": {},
   "outputs": [
    {
     "data": {
      "text/html": [
       "<div>\n",
       "<style scoped>\n",
       "    .dataframe tbody tr th:only-of-type {\n",
       "        vertical-align: middle;\n",
       "    }\n",
       "\n",
       "    .dataframe tbody tr th {\n",
       "        vertical-align: top;\n",
       "    }\n",
       "\n",
       "    .dataframe thead th {\n",
       "        text-align: right;\n",
       "    }\n",
       "</style>\n",
       "<table border=\"1\" class=\"dataframe\">\n",
       "  <thead>\n",
       "    <tr style=\"text-align: right;\">\n",
       "      <th></th>\n",
       "      <th>X</th>\n",
       "      <th>Y</th>\n",
       "    </tr>\n",
       "  </thead>\n",
       "  <tbody>\n",
       "    <tr>\n",
       "      <th>0</th>\n",
       "      <td>14</td>\n",
       "      <td>27.0</td>\n",
       "    </tr>\n",
       "    <tr>\n",
       "      <th>1</th>\n",
       "      <td>13</td>\n",
       "      <td>29.0</td>\n",
       "    </tr>\n",
       "    <tr>\n",
       "      <th>2</th>\n",
       "      <td>23</td>\n",
       "      <td>49.0</td>\n",
       "    </tr>\n",
       "    <tr>\n",
       "      <th>3</th>\n",
       "      <td>19</td>\n",
       "      <td>37.0</td>\n",
       "    </tr>\n",
       "    <tr>\n",
       "      <th>4</th>\n",
       "      <td>21</td>\n",
       "      <td>31.0</td>\n",
       "    </tr>\n",
       "    <tr>\n",
       "      <th>5</th>\n",
       "      <td>25</td>\n",
       "      <td>40.0</td>\n",
       "    </tr>\n",
       "    <tr>\n",
       "      <th>6</th>\n",
       "      <td>18</td>\n",
       "      <td>35.0</td>\n",
       "    </tr>\n",
       "  </tbody>\n",
       "</table>\n",
       "</div>"
      ],
      "text/plain": [
       "    X     Y\n",
       "0  14  27.0\n",
       "1  13  29.0\n",
       "2  23  49.0\n",
       "3  19  37.0\n",
       "4  21  31.0\n",
       "5  25  40.0\n",
       "6  18  35.0"
      ]
     },
     "execution_count": 89,
     "metadata": {},
     "output_type": "execute_result"
    }
   ],
   "source": [
    "# code here\n",
    "sample_df1.dropna(inplace=True)\n",
    "sample_df1"
   ]
  },
  {
   "cell_type": "markdown",
   "id": "d463f9cb",
   "metadata": {},
   "source": [
    "<div class=\"alert alert-block alert-info\"><b>Remember:</b> Cleaning don't just involve treating missing values, data cleaning also involves removing of duplicate instaces, fixing variable data types, fixing faulty records and others.</div> "
   ]
  },
  {
   "cell_type": "markdown",
   "id": "b17b20e0",
   "metadata": {},
   "source": [
    "## `Data Integration`\n",
    "\n",
    "This includes clubbing of similar data together and to negate the differences in the data. It involves accessing different databases and extracting information from various trusted sources and clubbing them together. This process will give meaning to the unstructured data by framing it in a way that can be understood."
   ]
  },
  {
   "cell_type": "markdown",
   "id": "d6cef0fb",
   "metadata": {},
   "source": [
    "### `Cite Examples of Data Integration for Titanic Dataset`\n",
    "\n",
    "> Answer: joining passenger records with journey logs or ticket payment databases."
   ]
  },
  {
   "cell_type": "markdown",
   "id": "d7a9b3f8",
   "metadata": {},
   "source": [
    "## `Perform Data Cleaning for the Titanic Dataset`"
   ]
  },
  {
   "cell_type": "code",
   "execution_count": 90,
   "id": "ae2dc7f0",
   "metadata": {},
   "outputs": [
    {
     "data": {
      "text/plain": [
       "PassengerId      0\n",
       "Survived         0\n",
       "Pclass           0\n",
       "Name             0\n",
       "Sex              0\n",
       "Age            177\n",
       "SibSp            0\n",
       "Parch            0\n",
       "Ticket           0\n",
       "Fare             0\n",
       "Cabin          687\n",
       "Embarked         2\n",
       "dtype: int64"
      ]
     },
     "execution_count": 90,
     "metadata": {},
     "output_type": "execute_result"
    }
   ],
   "source": [
    "# should we peform imputation or dropping?\n",
    "df.isna().sum()"
   ]
  },
  {
   "cell_type": "markdown",
   "id": "dd019b41",
   "metadata": {},
   "source": [
    "### `Display Age Distribution`\n",
    "*Use correct title and axis labels.*\n",
    "*Display as well the mean, median and the mode from the distribution plot using `plt.axvline()`*"
   ]
  },
  {
   "cell_type": "code",
   "execution_count": 91,
   "id": "5337f8ec",
   "metadata": {},
   "outputs": [
    {
     "data": {
      "image/png": "[encoded data removed]",
      "text/plain": [
       "<Figure size 640x480 with 1 Axes>"
      ]
     },
     "metadata": {},
     "output_type": "display_data"
    }
   ],
   "source": [
    "# code here\n",
    "plt.hist(df['Age'].dropna(), bins=20, ec='black')\n",
    "plt.axvline(x=df['Age'].mean(), color='red', linestyle='--', label='Mean')\n",
    "plt.axvline(x=df['Age'].median(), color='blue', linestyle='--', label='Median')\n",
    "plt.axvline(x=df['Age'].mode()[0], color='green', linestyle='--', label='Mode')\n",
    "plt.title('Age Distribution')\n",
    "plt.xlabel('Age')\n",
    "plt.ylabel('Frequency')\n",
    "plt.legend()\n",
    "plt.show()"
   ]
  },
  {
   "cell_type": "markdown",
   "id": "60ea1c36",
   "metadata": {},
   "source": [
    "### `Should we Perform Scalar Imputation?`\n",
    "\n",
    "<img src=\"lab1_figs/uhh.gif\" width=\"350\">\n",
    "\n",
    "*Any assumptions?*in this case using the mean, median, and mode can help fulfill the gaps without significantly changing the dataset"
   ]
  },
  {
   "cell_type": "markdown",
   "id": "90bc2002",
   "metadata": {},
   "source": [
    "### `Perform Bootstrap Sampling Method`\n",
    "\n",
    "<center><img src=\"lab1_figs/bootstrap.png\" width=\"600\"></center>\n",
    "\n",
    "*set the random seed to 42* \\\n",
    "*display the histogram for the resampled data.*"
   ]
  },
  {
   "cell_type": "code",
   "execution_count": 92,
   "id": "c1ed36a5",
   "metadata": {},
   "outputs": [
    {
     "data": {
      "image/png": "[encoded data removed]",
      "text/plain": [
       "<Figure size 640x480 with 1 Axes>"
      ]
     },
     "metadata": {},
     "output_type": "display_data"
    }
   ],
   "source": [
    "# code here\n",
    "np.random.seed(42)\n",
    "bootstrap_samples = df['Age'].dropna().sample(frac=1, replace=True)\n",
    "plt.hist(bootstrap_samples, bins=20, ec='black')\n",
    "plt.title('Bootstrap Sample of Age')\n",
    "plt.xlabel('Age')\n",
    "plt.ylabel('Frequency')\n",
    "plt.show()"
   ]
  },
  {
   "cell_type": "markdown",
   "id": "e2743b16",
   "metadata": {},
   "source": [
    "### `Treat Missing values for Cabin Variable`"
   ]
  },
  {
   "cell_type": "code",
   "execution_count": 93,
   "id": "23d5d0fb",
   "metadata": {},
   "outputs": [
    {
     "name": "stderr",
     "output_type": "stream",
     "text": [
      "C:\\Users\\ASUS\\AppData\\Local\\Temp\\ipykernel_3576\\2632997592.py:2: FutureWarning: A value is trying to be set on a copy of a DataFrame or Series through chained assignment using an inplace method.\n",
      "The behavior will change in pandas 3.0. This inplace method will never work because the intermediate object on which we are setting values always behaves as a copy.\n",
      "\n",
      "For example, when doing 'df[col].method(value, inplace=True)', try using 'df.method({col: value}, inplace=True)' or df[col] = df[col].method(value) instead, to perform the operation inplace on the original object.\n",
      "\n",
      "\n",
      "  df['Cabin'].fillna(value='Unknown', inplace=True)\n"
     ]
    }
   ],
   "source": [
    "# code here\n",
    "df['Cabin'].fillna(value='Unknown', inplace=True)"
   ]
  },
  {
   "cell_type": "markdown",
   "id": "3797d4bc",
   "metadata": {},
   "source": [
    "### `Perform Bootstrap Sampling for Cabin`"
   ]
  },
  {
   "cell_type": "code",
   "execution_count": 94,
   "id": "78ba5ae9",
   "metadata": {},
   "outputs": [
    {
     "data": {
      "image/png": "[encoded data removed]",
      "text/plain": [
       "<Figure size 1000x400 with 1 Axes>"
      ]
     },
     "metadata": {},
     "output_type": "display_data"
    }
   ],
   "source": [
    "# code here\n",
    "np.random.seed(42)\n",
    "bootstrap_cabin = df['Cabin'].dropna().sample(frac=1, replace=True)\n",
    "bootstrap_cabin.value_counts().plot(kind='bar', figsize=(10,4))\n",
    "plt.title(\"Bootstrap Sample for Cabin\")\n",
    "plt.ylabel(\"Count\")\n",
    "plt.xlabel(\"Cabin\")\n",
    "plt.show()"
   ]
  },
  {
   "cell_type": "markdown",
   "id": "5a951984",
   "metadata": {},
   "source": [
    "<center><img src=\"lab1_figs/now_what.jpg\" width=\"250\"></center>\n",
    "\n",
    "### `Save the DataFrame as CSV`\n",
    "\n",
    "*We'll going to use that for another activity.*"
   ]
  },
  {
   "cell_type": "code",
   "execution_count": 95,
   "id": "0a057284",
   "metadata": {},
   "outputs": [
    {
     "name": "stderr",
     "output_type": "stream",
     "text": [
      "WARNING: Ignoring invalid distribution ~ip (C:\\Python312\\Lib\\site-packages)\n"
     ]
    }
   ],
   "source": [
    "# code here\n",
    "\n",
    "!pip list > requirements.txt"
   ]
  },
  {
   "cell_type": "code",
   "execution_count": 96,
   "id": "105d6753",
   "metadata": {},
   "outputs": [],
   "source": [
    "df.to_csv('titanic_cleaned.csv', index=False)"
   ]
  }
 ],
 "metadata": {
  "kernelspec": {
   "display_name": "Python 3",
   "language": "python",
   "name": "python3"
  },
  "language_info": {
   "codemirror_mode": {
    "name": "ipython",
    "version": 3
   },
   "file_extension": ".py",
   "mimetype": "text/x-python",
   "name": "python",
   "nbconvert_exporter": "python",
   "pygments_lexer": "ipython3",
   "version": "3.12.3"
  }
 },
 "nbformat": 4,
 "nbformat_minor": 5
}
